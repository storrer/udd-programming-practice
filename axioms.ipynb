{
 "cells": [
  {
   "cell_type": "markdown",
   "metadata": {},
   "source": [
    "# Opening a file\n",
    "`with` Handles opening and closing"
   ]
  },
  {
   "cell_type": "code",
   "execution_count": null,
   "metadata": {},
   "outputs": [],
   "source": [
    "with open('file_name.txt', 'r') as file:\n",
    "    variab = file.readlines()"
   ]
  },
  {
   "cell_type": "markdown",
   "metadata": {},
   "source": [
    "# .strip() lines for whitespace\n",
    "Use the .strip() function on each line of the input `variab` when checking for substrings or appending to some result variable, or doing anything sensitive with it!"
   ]
  },
  {
   "cell_type": "code",
   "execution_count": null,
   "metadata": {},
   "outputs": [],
   "source": [
    "result = []\n",
    "for x in variab:\n",
    "    x = x.strip()\n",
    "    if x.endswith('a'):\n",
    "        pass"
   ]
  },
  {
   "cell_type": "markdown",
   "metadata": {},
   "source": [
    "# "
   ]
  },
  {
   "cell_type": "code",
   "execution_count": null,
   "metadata": {},
   "outputs": [],
   "source": [
    "def find_countries_that_start_and_end_with_vowels(filename):\n",
    "    with open(filename) as file:\n",
    "        countries = file.readlines()\n",
    "\n",
    "    starting_vowels = tuple(\"AEIOU\")\n",
    "    ending_vowels = tuple('aeiou')\n",
    "\n",
    "    countries_that_start_and_end_with_vowels = []\n",
    "    for country in countries:\n",
    "        if country.startswith(starting_vowels):\n",
    "            country = country.strip()\n",
    "            if country.endswith(ending_vowels):\n",
    "                countries_that_start_and_end_with_vowels.append(country)\n",
    "    \n",
    "    return countries_that_start_and_end_with_vowels"
   ]
  }
 ],
 "metadata": {
  "kernelspec": {
   "display_name": "Python 3",
   "language": "python",
   "name": "python3"
  },
  "language_info": {
   "name": "python",
   "version": "3.11.4"
  },
  "orig_nbformat": 4,
  "polyglot_notebook": {
   "kernelInfo": {
    "defaultKernelName": "csharp",
    "items": [
     {
      "aliases": [],
      "name": "csharp"
     }
    ]
   }
  }
 },
 "nbformat": 4,
 "nbformat_minor": 2
}
